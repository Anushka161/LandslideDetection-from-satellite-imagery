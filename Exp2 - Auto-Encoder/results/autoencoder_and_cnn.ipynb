{
  "nbformat": 4,
  "nbformat_minor": 0,
  "metadata": {
    "colab": {
      "name": "autoencoder_and_cnn.ipynb",
      "provenance": [],
      "collapsed_sections": []
    },
    "kernelspec": {
      "name": "python3",
      "display_name": "Python 3"
    },
    "language_info": {
      "name": "python"
    },
    "accelerator": "TPU"
  },
  "cells": [
    {
      "cell_type": "code",
      "execution_count": null,
      "metadata": {
        "id": "OTTTDmFwxb5A"
      },
      "outputs": [],
      "source": [
        "import torch\n",
        "import torch.nn as nn\n",
        "import torch.optim as optim\n",
        "from torch.optim import lr_scheduler\n",
        "import numpy as np\n",
        "import torchvision\n",
        "from torchvision import datasets, models, transforms\n",
        "import torchvision.transforms.functional as Fr\n",
        "import torch.nn.functional\n",
        "import matplotlib.pyplot as plt\n",
        "import time\n",
        "import os\n",
        "import copy"
      ]
    },
    {
      "cell_type": "code",
      "source": [
        "class SquarePad:\n",
        "    def __call__(self, image):\n",
        "        \"\"\"\n",
        "        Args:\n",
        "            img (PIL Image): Image to be padded.\n",
        "\n",
        "        Returns:\n",
        "            PIL Image: Padded image.\n",
        "            \n",
        "        \"\"\"\n",
        "        w, h = image.size\n",
        "        max_wh = np.max([w, h])\n",
        "        hp = int((max_wh - w) / 2)\n",
        "        vp = int((max_wh - h) / 2)\n",
        "        padding = (hp, vp, hp, vp)\n",
        "        return Fr.pad(image, padding, 0, 'constant')\n",
        "\n",
        "target_image_size = (224, 224)  # as an example\n",
        "# now use it as the replacement of transforms.Pad class\n",
        "#Data Augmentation and normalization for training\n",
        "# and only Normalization for validation\n",
        "data_transforms = {\n",
        "    'train': transforms.Compose([\n",
        "        SquarePad(),\n",
        "        transforms.Resize(target_image_size),\n",
        "        transforms.RandomHorizontalFlip(),\n",
        "        transforms.ToTensor(),\n",
        "        transforms.Normalize([0.485, 0.456, 0.406], [0.229, 0.224, 0.225])\n",
        "    ]),\n",
        "    'val': transforms.Compose([\n",
        "        SquarePad(),\n",
        "        transforms.Resize(target_image_size),\n",
        "        # transforms.CenterCrop(224),\n",
        "        transforms.ToTensor(),\n",
        "        transforms.Normalize([0.485, 0.456, 0.406], [0.229, 0.224, 0.225])\n",
        "    ]),\n",
        "}"
      ],
      "metadata": {
        "id": "YEtulsMZxn3o"
      },
      "execution_count": null,
      "outputs": []
    },
    {
      "cell_type": "code",
      "source": [
        "device = torch.device(\"cuda:0\" if torch.cuda.is_available() else \"cpu\")\n"
      ],
      "metadata": {
        "id": "tYuZk3iRxn0N"
      },
      "execution_count": null,
      "outputs": []
    },
    {
      "cell_type": "code",
      "source": [
        "#Defining architecture.\n",
        "class Autoencoder(nn.Module):\n",
        "  def __init__(self):\n",
        "    super(Autoencoder, self).__init__()\n",
        "    #encoder layers\n",
        "    self.encoder = nn.Sequential(\n",
        "        nn.Conv2d(3, 16, 3, stride = 2, padding = 1),\n",
        "        nn.ReLU(),\n",
        "        nn.Conv2d(16, 32, 3, stride =2, padding=1),\n",
        "        nn.ReLU(),\n",
        "        nn.Conv2d(32, 64, 7),\n",
        "                           #Conv2d(in_channels, out_channels, kernel_size)\n",
        "    )\n",
        "    self.decoder = nn.Sequential(\n",
        "        nn.ConvTranspose2d(64, 32, 7),\n",
        "        nn.ReLU(),\n",
        "        nn.ConvTranspose2d(32, 16, 3, stride=2, padding=1, output_padding=1),\n",
        "        nn.ReLU(),\n",
        "        nn.ConvTranspose2d(16, 3, 3, stride=2, padding=1, output_padding=1),\n",
        "        # nn.Sigmoid()\n",
        "    )\n",
        "\n",
        "  def forward(self, x):\n",
        "    x = self.encoder(x)\n",
        "    x = self.decoder(x)\n",
        "    return x   "
      ],
      "metadata": {
        "id": "-yG-Hdpxzohc"
      },
      "execution_count": null,
      "outputs": []
    },
    {
      "cell_type": "code",
      "source": [
        "from google.colab import drive\n",
        "drive.mount('/content/drive')"
      ],
      "metadata": {
        "colab": {
          "base_uri": "https://localhost:8080/"
        },
        "id": "Gks6vTOVzvGx",
        "outputId": "8ea876a8-ad6f-422b-9de2-9d875b769022"
      },
      "execution_count": null,
      "outputs": [
        {
          "output_type": "stream",
          "name": "stdout",
          "text": [
            "Drive already mounted at /content/drive; to attempt to forcibly remount, call drive.mount(\"/content/drive\", force_remount=True).\n"
          ]
        }
      ]
    },
    {
      "cell_type": "code",
      "source": [
        "data_dir = '/content/drive/MyDrive/dataset'\n",
        "#loading only train images for trainng autoencoder\n",
        "\n",
        "# image_datasets = datasets.ImageFolder(data_dir + '/train', transform=data_transforms)\n",
        "image_datasets = {x: datasets.ImageFolder(os.path.join(data_dir, x),\n",
        "                                          data_transforms[x])\n",
        "                  for x in ['train', 'val']}        \n",
        "dataloaders = {x: torch.utils.data.DataLoader(image_datasets[x], batch_size=32,\n",
        "                                             shuffle=True)\n",
        "              for x in ['train', 'val']}                            \n",
        "# dataloaders = torch.utils.data.DataLoader(image_datasets, batch_size=32, shuffle=True)"
      ],
      "metadata": {
        "id": "dz2MYHlQxnvx",
        "colab": {
          "base_uri": "https://localhost:8080/",
          "height": 396
        },
        "outputId": "450ee812-53fc-42c4-e960-bde5cb817226"
      },
      "execution_count": null,
      "outputs": [
        {
          "output_type": "error",
          "ename": "FileNotFoundError",
          "evalue": "ignored",
          "traceback": [
            "\u001b[0;31m---------------------------------------------------------------------------\u001b[0m",
            "\u001b[0;31mFileNotFoundError\u001b[0m                         Traceback (most recent call last)",
            "\u001b[0;32m<ipython-input-11-2f7fc33bf5af>\u001b[0m in \u001b[0;36m<module>\u001b[0;34m()\u001b[0m\n\u001b[1;32m      5\u001b[0m image_datasets = {x: datasets.ImageFolder(os.path.join(data_dir, x),\n\u001b[1;32m      6\u001b[0m                                           data_transforms[x])\n\u001b[0;32m----> 7\u001b[0;31m                   for x in ['train', 'val']}        \n\u001b[0m\u001b[1;32m      8\u001b[0m dataloaders = {x: torch.utils.data.DataLoader(image_datasets[x], batch_size=32,\n\u001b[1;32m      9\u001b[0m                                              shuffle=True)\n",
            "\u001b[0;32m<ipython-input-11-2f7fc33bf5af>\u001b[0m in \u001b[0;36m<dictcomp>\u001b[0;34m(.0)\u001b[0m\n\u001b[1;32m      5\u001b[0m image_datasets = {x: datasets.ImageFolder(os.path.join(data_dir, x),\n\u001b[1;32m      6\u001b[0m                                           data_transforms[x])\n\u001b[0;32m----> 7\u001b[0;31m                   for x in ['train', 'val']}        \n\u001b[0m\u001b[1;32m      8\u001b[0m dataloaders = {x: torch.utils.data.DataLoader(image_datasets[x], batch_size=32,\n\u001b[1;32m      9\u001b[0m                                              shuffle=True)\n",
            "\u001b[0;32m/usr/local/lib/python3.7/dist-packages/torchvision/datasets/folder.py\u001b[0m in \u001b[0;36m__init__\u001b[0;34m(self, root, transform, target_transform, loader, is_valid_file)\u001b[0m\n\u001b[1;32m    314\u001b[0m             \u001b[0mtransform\u001b[0m\u001b[0;34m=\u001b[0m\u001b[0mtransform\u001b[0m\u001b[0;34m,\u001b[0m\u001b[0;34m\u001b[0m\u001b[0;34m\u001b[0m\u001b[0m\n\u001b[1;32m    315\u001b[0m             \u001b[0mtarget_transform\u001b[0m\u001b[0;34m=\u001b[0m\u001b[0mtarget_transform\u001b[0m\u001b[0;34m,\u001b[0m\u001b[0;34m\u001b[0m\u001b[0;34m\u001b[0m\u001b[0m\n\u001b[0;32m--> 316\u001b[0;31m             \u001b[0mis_valid_file\u001b[0m\u001b[0;34m=\u001b[0m\u001b[0mis_valid_file\u001b[0m\u001b[0;34m,\u001b[0m\u001b[0;34m\u001b[0m\u001b[0;34m\u001b[0m\u001b[0m\n\u001b[0m\u001b[1;32m    317\u001b[0m         )\n\u001b[1;32m    318\u001b[0m         \u001b[0mself\u001b[0m\u001b[0;34m.\u001b[0m\u001b[0mimgs\u001b[0m \u001b[0;34m=\u001b[0m \u001b[0mself\u001b[0m\u001b[0;34m.\u001b[0m\u001b[0msamples\u001b[0m\u001b[0;34m\u001b[0m\u001b[0;34m\u001b[0m\u001b[0m\n",
            "\u001b[0;32m/usr/local/lib/python3.7/dist-packages/torchvision/datasets/folder.py\u001b[0m in \u001b[0;36m__init__\u001b[0;34m(self, root, loader, extensions, transform, target_transform, is_valid_file)\u001b[0m\n\u001b[1;32m    143\u001b[0m     ) -> None:\n\u001b[1;32m    144\u001b[0m         \u001b[0msuper\u001b[0m\u001b[0;34m(\u001b[0m\u001b[0;34m)\u001b[0m\u001b[0;34m.\u001b[0m\u001b[0m__init__\u001b[0m\u001b[0;34m(\u001b[0m\u001b[0mroot\u001b[0m\u001b[0;34m,\u001b[0m \u001b[0mtransform\u001b[0m\u001b[0;34m=\u001b[0m\u001b[0mtransform\u001b[0m\u001b[0;34m,\u001b[0m \u001b[0mtarget_transform\u001b[0m\u001b[0;34m=\u001b[0m\u001b[0mtarget_transform\u001b[0m\u001b[0;34m)\u001b[0m\u001b[0;34m\u001b[0m\u001b[0;34m\u001b[0m\u001b[0m\n\u001b[0;32m--> 145\u001b[0;31m         \u001b[0mclasses\u001b[0m\u001b[0;34m,\u001b[0m \u001b[0mclass_to_idx\u001b[0m \u001b[0;34m=\u001b[0m \u001b[0mself\u001b[0m\u001b[0;34m.\u001b[0m\u001b[0mfind_classes\u001b[0m\u001b[0;34m(\u001b[0m\u001b[0mself\u001b[0m\u001b[0;34m.\u001b[0m\u001b[0mroot\u001b[0m\u001b[0;34m)\u001b[0m\u001b[0;34m\u001b[0m\u001b[0;34m\u001b[0m\u001b[0m\n\u001b[0m\u001b[1;32m    146\u001b[0m         \u001b[0msamples\u001b[0m \u001b[0;34m=\u001b[0m \u001b[0mself\u001b[0m\u001b[0;34m.\u001b[0m\u001b[0mmake_dataset\u001b[0m\u001b[0;34m(\u001b[0m\u001b[0mself\u001b[0m\u001b[0;34m.\u001b[0m\u001b[0mroot\u001b[0m\u001b[0;34m,\u001b[0m \u001b[0mclass_to_idx\u001b[0m\u001b[0;34m,\u001b[0m \u001b[0mextensions\u001b[0m\u001b[0;34m,\u001b[0m \u001b[0mis_valid_file\u001b[0m\u001b[0;34m)\u001b[0m\u001b[0;34m\u001b[0m\u001b[0;34m\u001b[0m\u001b[0m\n\u001b[1;32m    147\u001b[0m \u001b[0;34m\u001b[0m\u001b[0m\n",
            "\u001b[0;32m/usr/local/lib/python3.7/dist-packages/torchvision/datasets/folder.py\u001b[0m in \u001b[0;36mfind_classes\u001b[0;34m(self, directory)\u001b[0m\n\u001b[1;32m    217\u001b[0m             \u001b[0;34m(\u001b[0m\u001b[0mTuple\u001b[0m\u001b[0;34m[\u001b[0m\u001b[0mList\u001b[0m\u001b[0;34m[\u001b[0m\u001b[0mstr\u001b[0m\u001b[0;34m]\u001b[0m\u001b[0;34m,\u001b[0m \u001b[0mDict\u001b[0m\u001b[0;34m[\u001b[0m\u001b[0mstr\u001b[0m\u001b[0;34m,\u001b[0m \u001b[0mint\u001b[0m\u001b[0;34m]\u001b[0m\u001b[0;34m]\u001b[0m\u001b[0;34m)\u001b[0m\u001b[0;34m:\u001b[0m \u001b[0mList\u001b[0m \u001b[0mof\u001b[0m \u001b[0mall\u001b[0m \u001b[0mclasses\u001b[0m \u001b[0;32mand\u001b[0m \u001b[0mdictionary\u001b[0m \u001b[0mmapping\u001b[0m \u001b[0meach\u001b[0m \u001b[0;32mclass\u001b[0m \u001b[0mto\u001b[0m \u001b[0man\u001b[0m \u001b[0mindex\u001b[0m\u001b[0;34m.\u001b[0m\u001b[0;34m\u001b[0m\u001b[0;34m\u001b[0m\u001b[0m\n\u001b[1;32m    218\u001b[0m         \"\"\"\n\u001b[0;32m--> 219\u001b[0;31m         \u001b[0;32mreturn\u001b[0m \u001b[0mfind_classes\u001b[0m\u001b[0;34m(\u001b[0m\u001b[0mdirectory\u001b[0m\u001b[0;34m)\u001b[0m\u001b[0;34m\u001b[0m\u001b[0;34m\u001b[0m\u001b[0m\n\u001b[0m\u001b[1;32m    220\u001b[0m \u001b[0;34m\u001b[0m\u001b[0m\n\u001b[1;32m    221\u001b[0m     \u001b[0;32mdef\u001b[0m \u001b[0m__getitem__\u001b[0m\u001b[0;34m(\u001b[0m\u001b[0mself\u001b[0m\u001b[0;34m,\u001b[0m \u001b[0mindex\u001b[0m\u001b[0;34m:\u001b[0m \u001b[0mint\u001b[0m\u001b[0;34m)\u001b[0m \u001b[0;34m->\u001b[0m \u001b[0mTuple\u001b[0m\u001b[0;34m[\u001b[0m\u001b[0mAny\u001b[0m\u001b[0;34m,\u001b[0m \u001b[0mAny\u001b[0m\u001b[0;34m]\u001b[0m\u001b[0;34m:\u001b[0m\u001b[0;34m\u001b[0m\u001b[0;34m\u001b[0m\u001b[0m\n",
            "\u001b[0;32m/usr/local/lib/python3.7/dist-packages/torchvision/datasets/folder.py\u001b[0m in \u001b[0;36mfind_classes\u001b[0;34m(directory)\u001b[0m\n\u001b[1;32m     39\u001b[0m     \u001b[0mSee\u001b[0m \u001b[0;34m:\u001b[0m\u001b[0;32mclass\u001b[0m\u001b[0;34m:\u001b[0m\u001b[0;31m`\u001b[0m\u001b[0mDatasetFolder\u001b[0m\u001b[0;31m`\u001b[0m \u001b[0;32mfor\u001b[0m \u001b[0mdetails\u001b[0m\u001b[0;34m.\u001b[0m\u001b[0;34m\u001b[0m\u001b[0;34m\u001b[0m\u001b[0m\n\u001b[1;32m     40\u001b[0m     \"\"\"\n\u001b[0;32m---> 41\u001b[0;31m     \u001b[0mclasses\u001b[0m \u001b[0;34m=\u001b[0m \u001b[0msorted\u001b[0m\u001b[0;34m(\u001b[0m\u001b[0mentry\u001b[0m\u001b[0;34m.\u001b[0m\u001b[0mname\u001b[0m \u001b[0;32mfor\u001b[0m \u001b[0mentry\u001b[0m \u001b[0;32min\u001b[0m \u001b[0mos\u001b[0m\u001b[0;34m.\u001b[0m\u001b[0mscandir\u001b[0m\u001b[0;34m(\u001b[0m\u001b[0mdirectory\u001b[0m\u001b[0;34m)\u001b[0m \u001b[0;32mif\u001b[0m \u001b[0mentry\u001b[0m\u001b[0;34m.\u001b[0m\u001b[0mis_dir\u001b[0m\u001b[0;34m(\u001b[0m\u001b[0;34m)\u001b[0m\u001b[0;34m)\u001b[0m\u001b[0;34m\u001b[0m\u001b[0;34m\u001b[0m\u001b[0m\n\u001b[0m\u001b[1;32m     42\u001b[0m     \u001b[0;32mif\u001b[0m \u001b[0;32mnot\u001b[0m \u001b[0mclasses\u001b[0m\u001b[0;34m:\u001b[0m\u001b[0;34m\u001b[0m\u001b[0;34m\u001b[0m\u001b[0m\n\u001b[1;32m     43\u001b[0m         \u001b[0;32mraise\u001b[0m \u001b[0mFileNotFoundError\u001b[0m\u001b[0;34m(\u001b[0m\u001b[0;34mf\"Couldn't find any class folder in {directory}.\"\u001b[0m\u001b[0;34m)\u001b[0m\u001b[0;34m\u001b[0m\u001b[0;34m\u001b[0m\u001b[0m\n",
            "\u001b[0;31mFileNotFoundError\u001b[0m: [Errno 2] No such file or directory: '/content/drive/MyDrive/dataset/train'"
          ]
        }
      ]
    },
    {
      "cell_type": "code",
      "source": [
        "PATH = \"/content/drive/MyDrive/autoencoder_model.pt\"\n",
        "model = Autoencoder()\n",
        "# model.load_state_dict(copy.deepcopy(torch.load(PATH, device)))\n",
        "# model(torch.randn(1, 3, 224, 224).to(device))\n",
        "model.load_state_dict(copy.deepcopy(torch.load(PATH, device)))\n",
        "model.to(device)\n",
        "# model.eval()\n",
        "# model.store_inverse()"
      ],
      "metadata": {
        "id": "nENv0Nwhx5s2",
        "colab": {
          "base_uri": "https://localhost:8080/",
          "height": 396
        },
        "outputId": "825e861a-46f5-40ec-a8db-ab8b895f59f4"
      },
      "execution_count": null,
      "outputs": [
        {
          "output_type": "error",
          "ename": "FileNotFoundError",
          "evalue": "ignored",
          "traceback": [
            "\u001b[0;31m---------------------------------------------------------------------------\u001b[0m",
            "\u001b[0;31mFileNotFoundError\u001b[0m                         Traceback (most recent call last)",
            "\u001b[0;32m<ipython-input-7-86c6a2629d0c>\u001b[0m in \u001b[0;36m<module>\u001b[0;34m()\u001b[0m\n\u001b[1;32m      3\u001b[0m \u001b[0;31m# model.load_state_dict(copy.deepcopy(torch.load(PATH, device)))\u001b[0m\u001b[0;34m\u001b[0m\u001b[0;34m\u001b[0m\u001b[0;34m\u001b[0m\u001b[0m\n\u001b[1;32m      4\u001b[0m \u001b[0;31m# model(torch.randn(1, 3, 224, 224).to(device))\u001b[0m\u001b[0;34m\u001b[0m\u001b[0;34m\u001b[0m\u001b[0;34m\u001b[0m\u001b[0m\n\u001b[0;32m----> 5\u001b[0;31m \u001b[0mmodel\u001b[0m\u001b[0;34m.\u001b[0m\u001b[0mload_state_dict\u001b[0m\u001b[0;34m(\u001b[0m\u001b[0mcopy\u001b[0m\u001b[0;34m.\u001b[0m\u001b[0mdeepcopy\u001b[0m\u001b[0;34m(\u001b[0m\u001b[0mtorch\u001b[0m\u001b[0;34m.\u001b[0m\u001b[0mload\u001b[0m\u001b[0;34m(\u001b[0m\u001b[0mPATH\u001b[0m\u001b[0;34m,\u001b[0m \u001b[0mdevice\u001b[0m\u001b[0;34m)\u001b[0m\u001b[0;34m)\u001b[0m\u001b[0;34m)\u001b[0m\u001b[0;34m\u001b[0m\u001b[0;34m\u001b[0m\u001b[0m\n\u001b[0m\u001b[1;32m      6\u001b[0m \u001b[0mmodel\u001b[0m\u001b[0;34m.\u001b[0m\u001b[0mto\u001b[0m\u001b[0;34m(\u001b[0m\u001b[0mdevice\u001b[0m\u001b[0;34m)\u001b[0m\u001b[0;34m\u001b[0m\u001b[0;34m\u001b[0m\u001b[0m\n\u001b[1;32m      7\u001b[0m \u001b[0;31m# model.eval()\u001b[0m\u001b[0;34m\u001b[0m\u001b[0;34m\u001b[0m\u001b[0;34m\u001b[0m\u001b[0m\n",
            "\u001b[0;32m/usr/local/lib/python3.7/dist-packages/torch/serialization.py\u001b[0m in \u001b[0;36mload\u001b[0;34m(f, map_location, pickle_module, **pickle_load_args)\u001b[0m\n\u001b[1;32m    697\u001b[0m         \u001b[0mpickle_load_args\u001b[0m\u001b[0;34m[\u001b[0m\u001b[0;34m'encoding'\u001b[0m\u001b[0;34m]\u001b[0m \u001b[0;34m=\u001b[0m \u001b[0;34m'utf-8'\u001b[0m\u001b[0;34m\u001b[0m\u001b[0;34m\u001b[0m\u001b[0m\n\u001b[1;32m    698\u001b[0m \u001b[0;34m\u001b[0m\u001b[0m\n\u001b[0;32m--> 699\u001b[0;31m     \u001b[0;32mwith\u001b[0m \u001b[0m_open_file_like\u001b[0m\u001b[0;34m(\u001b[0m\u001b[0mf\u001b[0m\u001b[0;34m,\u001b[0m \u001b[0;34m'rb'\u001b[0m\u001b[0;34m)\u001b[0m \u001b[0;32mas\u001b[0m \u001b[0mopened_file\u001b[0m\u001b[0;34m:\u001b[0m\u001b[0;34m\u001b[0m\u001b[0;34m\u001b[0m\u001b[0m\n\u001b[0m\u001b[1;32m    700\u001b[0m         \u001b[0;32mif\u001b[0m \u001b[0m_is_zipfile\u001b[0m\u001b[0;34m(\u001b[0m\u001b[0mopened_file\u001b[0m\u001b[0;34m)\u001b[0m\u001b[0;34m:\u001b[0m\u001b[0;34m\u001b[0m\u001b[0;34m\u001b[0m\u001b[0m\n\u001b[1;32m    701\u001b[0m             \u001b[0;31m# The zipfile reader is going to advance the current file position.\u001b[0m\u001b[0;34m\u001b[0m\u001b[0;34m\u001b[0m\u001b[0;34m\u001b[0m\u001b[0m\n",
            "\u001b[0;32m/usr/local/lib/python3.7/dist-packages/torch/serialization.py\u001b[0m in \u001b[0;36m_open_file_like\u001b[0;34m(name_or_buffer, mode)\u001b[0m\n\u001b[1;32m    229\u001b[0m \u001b[0;32mdef\u001b[0m \u001b[0m_open_file_like\u001b[0m\u001b[0;34m(\u001b[0m\u001b[0mname_or_buffer\u001b[0m\u001b[0;34m,\u001b[0m \u001b[0mmode\u001b[0m\u001b[0;34m)\u001b[0m\u001b[0;34m:\u001b[0m\u001b[0;34m\u001b[0m\u001b[0;34m\u001b[0m\u001b[0m\n\u001b[1;32m    230\u001b[0m     \u001b[0;32mif\u001b[0m \u001b[0m_is_path\u001b[0m\u001b[0;34m(\u001b[0m\u001b[0mname_or_buffer\u001b[0m\u001b[0;34m)\u001b[0m\u001b[0;34m:\u001b[0m\u001b[0;34m\u001b[0m\u001b[0;34m\u001b[0m\u001b[0m\n\u001b[0;32m--> 231\u001b[0;31m         \u001b[0;32mreturn\u001b[0m \u001b[0m_open_file\u001b[0m\u001b[0;34m(\u001b[0m\u001b[0mname_or_buffer\u001b[0m\u001b[0;34m,\u001b[0m \u001b[0mmode\u001b[0m\u001b[0;34m)\u001b[0m\u001b[0;34m\u001b[0m\u001b[0;34m\u001b[0m\u001b[0m\n\u001b[0m\u001b[1;32m    232\u001b[0m     \u001b[0;32melse\u001b[0m\u001b[0;34m:\u001b[0m\u001b[0;34m\u001b[0m\u001b[0;34m\u001b[0m\u001b[0m\n\u001b[1;32m    233\u001b[0m         \u001b[0;32mif\u001b[0m \u001b[0;34m'w'\u001b[0m \u001b[0;32min\u001b[0m \u001b[0mmode\u001b[0m\u001b[0;34m:\u001b[0m\u001b[0;34m\u001b[0m\u001b[0;34m\u001b[0m\u001b[0m\n",
            "\u001b[0;32m/usr/local/lib/python3.7/dist-packages/torch/serialization.py\u001b[0m in \u001b[0;36m__init__\u001b[0;34m(self, name, mode)\u001b[0m\n\u001b[1;32m    210\u001b[0m \u001b[0;32mclass\u001b[0m \u001b[0m_open_file\u001b[0m\u001b[0;34m(\u001b[0m\u001b[0m_opener\u001b[0m\u001b[0;34m)\u001b[0m\u001b[0;34m:\u001b[0m\u001b[0;34m\u001b[0m\u001b[0;34m\u001b[0m\u001b[0m\n\u001b[1;32m    211\u001b[0m     \u001b[0;32mdef\u001b[0m \u001b[0m__init__\u001b[0m\u001b[0;34m(\u001b[0m\u001b[0mself\u001b[0m\u001b[0;34m,\u001b[0m \u001b[0mname\u001b[0m\u001b[0;34m,\u001b[0m \u001b[0mmode\u001b[0m\u001b[0;34m)\u001b[0m\u001b[0;34m:\u001b[0m\u001b[0;34m\u001b[0m\u001b[0;34m\u001b[0m\u001b[0m\n\u001b[0;32m--> 212\u001b[0;31m         \u001b[0msuper\u001b[0m\u001b[0;34m(\u001b[0m\u001b[0m_open_file\u001b[0m\u001b[0;34m,\u001b[0m \u001b[0mself\u001b[0m\u001b[0;34m)\u001b[0m\u001b[0;34m.\u001b[0m\u001b[0m__init__\u001b[0m\u001b[0;34m(\u001b[0m\u001b[0mopen\u001b[0m\u001b[0;34m(\u001b[0m\u001b[0mname\u001b[0m\u001b[0;34m,\u001b[0m \u001b[0mmode\u001b[0m\u001b[0;34m)\u001b[0m\u001b[0;34m)\u001b[0m\u001b[0;34m\u001b[0m\u001b[0;34m\u001b[0m\u001b[0m\n\u001b[0m\u001b[1;32m    213\u001b[0m \u001b[0;34m\u001b[0m\u001b[0m\n\u001b[1;32m    214\u001b[0m     \u001b[0;32mdef\u001b[0m \u001b[0m__exit__\u001b[0m\u001b[0;34m(\u001b[0m\u001b[0mself\u001b[0m\u001b[0;34m,\u001b[0m \u001b[0;34m*\u001b[0m\u001b[0margs\u001b[0m\u001b[0;34m)\u001b[0m\u001b[0;34m:\u001b[0m\u001b[0;34m\u001b[0m\u001b[0;34m\u001b[0m\u001b[0m\n",
            "\u001b[0;31mFileNotFoundError\u001b[0m: [Errno 2] No such file or directory: '/content/drive/MyDrive/autoencoder_model.pt'"
          ]
        }
      ]
    },
    {
      "cell_type": "code",
      "source": [
        "for param in model.parameters():\n",
        "  \n",
        "  param.requires_grad = False"
      ],
      "metadata": {
        "id": "c90FaoUhKqCe"
      },
      "execution_count": null,
      "outputs": []
    },
    {
      "cell_type": "code",
      "source": [
        "img = image_datasets['train'][0][0]\n"
      ],
      "metadata": {
        "id": "zCigbpjPx5qx"
      },
      "execution_count": null,
      "outputs": []
    },
    {
      "cell_type": "code",
      "source": [
        "img.shape"
      ],
      "metadata": {
        "colab": {
          "base_uri": "https://localhost:8080/"
        },
        "id": "b8Ue4t01L3du",
        "outputId": "e9eb8f54-de93-4de2-cbf6-a4928cbb581f"
      },
      "execution_count": null,
      "outputs": [
        {
          "output_type": "execute_result",
          "data": {
            "text/plain": [
              "torch.Size([3, 224, 224])"
            ]
          },
          "metadata": {},
          "execution_count": 26
        }
      ]
    },
    {
      "cell_type": "code",
      "source": [
        "img = img.unsqueeze(0)\n"
      ],
      "metadata": {
        "id": "XHa9BrchL1mA"
      },
      "execution_count": null,
      "outputs": []
    },
    {
      "cell_type": "code",
      "source": [
        "img.shape"
      ],
      "metadata": {
        "colab": {
          "base_uri": "https://localhost:8080/"
        },
        "id": "EuXTcDeK0XJR",
        "outputId": "8fb6db5c-440a-48f8-dfcd-b5703fd098f9"
      },
      "execution_count": null,
      "outputs": [
        {
          "output_type": "execute_result",
          "data": {
            "text/plain": [
              "torch.Size([1, 3, 224, 224])"
            ]
          },
          "metadata": {},
          "execution_count": 28
        }
      ]
    },
    {
      "cell_type": "code",
      "source": [
        "check = model.encoder(img)\n"
      ],
      "metadata": {
        "id": "zR3nzar-0hSd"
      },
      "execution_count": null,
      "outputs": []
    },
    {
      "cell_type": "code",
      "source": [
        "check.shape"
      ],
      "metadata": {
        "id": "qgodMpW10ogC",
        "colab": {
          "base_uri": "https://localhost:8080/"
        },
        "outputId": "ac76f120-0a6a-40c6-e3c0-720fef9ef42c"
      },
      "execution_count": null,
      "outputs": [
        {
          "output_type": "execute_result",
          "data": {
            "text/plain": [
              "torch.Size([1, 64, 50, 50])"
            ]
          },
          "metadata": {},
          "execution_count": 30
        }
      ]
    },
    {
      "cell_type": "code",
      "source": [
        "# activation = { }\n",
        "# def get_activation(name):\n",
        "#   def hook(model, input, output):\n",
        "#     activation [name] = output.detach()\n",
        "#   return hook"
      ],
      "metadata": {
        "id": "Fbazcuq60pmV"
      },
      "execution_count": null,
      "outputs": []
    },
    {
      "cell_type": "code",
      "source": [
        "from torch.utils.tensorboard import SummaryWriter\n",
        "writer = SummaryWriter()"
      ],
      "metadata": {
        "id": "vly5ErWHf0pg"
      },
      "execution_count": null,
      "outputs": []
    },
    {
      "cell_type": "code",
      "source": [
        "device"
      ],
      "metadata": {
        "colab": {
          "base_uri": "https://localhost:8080/"
        },
        "id": "DFYngzh7gR1q",
        "outputId": "786465a1-3426-4fda-db5a-f2c687b63f7d"
      },
      "execution_count": null,
      "outputs": [
        {
          "output_type": "execute_result",
          "data": {
            "text/plain": [
              "device(type='cpu')"
            ]
          },
          "metadata": {},
          "execution_count": 33
        }
      ]
    },
    {
      "cell_type": "code",
      "source": [
        "%load_ext tensorboard"
      ],
      "metadata": {
        "id": "DsdeYzWieMXw"
      },
      "execution_count": null,
      "outputs": []
    },
    {
      "cell_type": "code",
      "source": [
        "writer.add_graph(model.to(device), img.to(device))"
      ],
      "metadata": {
        "id": "_vUHFnUyf6CO"
      },
      "execution_count": null,
      "outputs": []
    },
    {
      "cell_type": "code",
      "source": [
        "%tensorboard --logdir=runs/"
      ],
      "metadata": {
        "colab": {
          "base_uri": "https://localhost:8080/"
        },
        "id": "QaADnpl2gOxB",
        "outputId": "16ec5e9e-86f7-4c1c-ab0d-bd051e64529a"
      },
      "execution_count": null,
      "outputs": [
        {
          "output_type": "display_data",
          "data": {
            "application/javascript": [
              "\n",
              "        (async () => {\n",
              "            const url = new URL(await google.colab.kernel.proxyPort(6006, {'cache': true}));\n",
              "            url.searchParams.set('tensorboardColab', 'true');\n",
              "            const iframe = document.createElement('iframe');\n",
              "            iframe.src = url;\n",
              "            iframe.setAttribute('width', '100%');\n",
              "            iframe.setAttribute('height', '800');\n",
              "            iframe.setAttribute('frameborder', 0);\n",
              "            document.body.appendChild(iframe);\n",
              "        })();\n",
              "    "
            ],
            "text/plain": [
              "<IPython.core.display.Javascript object>"
            ]
          },
          "metadata": {}
        }
      ]
    },
    {
      "cell_type": "code",
      "source": [
        "X = torch.rand(size=(8, 8))"
      ],
      "metadata": {
        "id": "B8C1qARrh_r7"
      },
      "execution_count": null,
      "outputs": []
    },
    {
      "cell_type": "code",
      "source": [
        "#Convolution layer \n",
        "#input torch.Size([batch_size, 64, 50, 50])\n",
        "class ConvNet(nn.Module):\n",
        "  def __init__(self):\n",
        "    super(ConvNet, self).__init__()\n",
        "    \n",
        "    self.conv1 = nn.Conv2d(64, 128, kernel_size=5, stride=1)\n",
        "    self.pool1 = nn.MaxPool2d(kernel_size=3, stride=1)\n",
        "    \n",
        "    self.conv2 = nn.Conv2d(128, 192, kernel_size=5, stride=1)\n",
        "    self.pool2 = nn.MaxPool2d(kernel_size=5, stride=2)\n",
        "    \n",
        "    \n",
        "    self.conv3 = nn.Conv2d(192, 200, kernel_size=5, stride=1)\n",
        "    self.pool3 = nn.MaxPool2d(kernel_size=4, stride=2)\n",
        "    \n",
        "    self.relu = nn.ReLU()\n",
        "    \n",
        "    self.drop_out = nn.Dropout(p=0.3)\n",
        "    self.fc1 = nn.Linear(6*6*200, 4096)\n",
        "    self.fc2 = nn.Linear(4096, 256)\n",
        "    self.fc3 = nn.Linear(256, 2)\n",
        "    self.relu = nn.ReLU()\n",
        "    # self.sigmoid = nn.Sigmoid()\n",
        "\n",
        "  def forward(self, x):\n",
        "    with torch.no_grad():\n",
        "      out = new_classifier(x)\n",
        "    out = self.pool1(self.relu(self.conv1(x)))\n",
        "    out = self.pool2(self.relu(self.conv2(out)))\n",
        "    # out = self.relu(self.conv3(out))\n",
        "    out = self.pool3(self.relu(self.conv3(out)))\n",
        "    out = out.view(out.size(0), -1)\n",
        "    \n",
        "    #out = self.drop_out(out)\n",
        "    out = self.drop_out(out)\n",
        "    out = self.relu(self.fc1(out))\n",
        "    out = self.drop_out(out)\n",
        "    out = self.relu(self.fc2(out))\n",
        "    # out = self.sigmoid(self.fc3(out))\n",
        "    out = self.fc3(out)\n",
        "    return out\n"
      ],
      "metadata": {
        "id": "It8w_BmKiHC_"
      },
      "execution_count": null,
      "outputs": []
    },
    {
      "cell_type": "code",
      "source": [
        "check_cnn_model = ConvNet()\n"
      ],
      "metadata": {
        "id": "uZfBHVi0BH93"
      },
      "execution_count": null,
      "outputs": []
    },
    {
      "cell_type": "code",
      "source": [
        "image = image_datasets['train'][0][0]"
      ],
      "metadata": {
        "id": "6VzAVuEsBMqQ"
      },
      "execution_count": null,
      "outputs": []
    },
    {
      "cell_type": "code",
      "source": [
        "image = image.unsqueeze(0)\n"
      ],
      "metadata": {
        "id": "ItAlnR1l3Iwa"
      },
      "execution_count": null,
      "outputs": []
    },
    {
      "cell_type": "code",
      "source": [
        "image.shape"
      ],
      "metadata": {
        "colab": {
          "base_uri": "https://localhost:8080/"
        },
        "id": "Fr_j_SkC3OJ2",
        "outputId": "44a9a27e-5569-4e35-f1ea-b49030fb2d35"
      },
      "execution_count": null,
      "outputs": [
        {
          "output_type": "execute_result",
          "data": {
            "text/plain": [
              "torch.Size([1, 3, 224, 224])"
            ]
          },
          "metadata": {},
          "execution_count": 33
        }
      ]
    },
    {
      "cell_type": "code",
      "source": [
        "new_classifier = nn.Sequential(*list(model.children())[:-1])"
      ],
      "metadata": {
        "id": "tCUw3hph4wUW"
      },
      "execution_count": null,
      "outputs": []
    },
    {
      "cell_type": "code",
      "source": [
        "new_classifier"
      ],
      "metadata": {
        "colab": {
          "base_uri": "https://localhost:8080/"
        },
        "id": "M1MdTdkP5SUK",
        "outputId": "c2b0dc20-80f8-45a9-cdee-1f44a77356af"
      },
      "execution_count": null,
      "outputs": [
        {
          "output_type": "execute_result",
          "data": {
            "text/plain": [
              "Sequential(\n",
              "  (0): Sequential(\n",
              "    (0): Conv2d(3, 16, kernel_size=(3, 3), stride=(2, 2), padding=(1, 1))\n",
              "    (1): ReLU()\n",
              "    (2): Conv2d(16, 32, kernel_size=(3, 3), stride=(2, 2), padding=(1, 1))\n",
              "    (3): ReLU()\n",
              "    (4): Conv2d(32, 64, kernel_size=(7, 7), stride=(1, 1))\n",
              "  )\n",
              ")"
            ]
          },
          "metadata": {},
          "execution_count": 35
        }
      ]
    },
    {
      "cell_type": "code",
      "source": [
        "# new_classifier = nn.Sequential(*list(new_classifier[0].children())[:-1])"
      ],
      "metadata": {
        "id": "TFTD5-ue5FQX"
      },
      "execution_count": null,
      "outputs": []
    },
    {
      "cell_type": "code",
      "source": [
        "image.shape"
      ],
      "metadata": {
        "colab": {
          "base_uri": "https://localhost:8080/"
        },
        "id": "yV7ejXXn-Z1c",
        "outputId": "fa03dd3b-06b4-44df-b127-fafd0eda7092"
      },
      "execution_count": null,
      "outputs": [
        {
          "output_type": "execute_result",
          "data": {
            "text/plain": [
              "torch.Size([1, 3, 224, 224])"
            ]
          },
          "metadata": {},
          "execution_count": 37
        }
      ]
    },
    {
      "cell_type": "code",
      "source": [
        "# classifier = nn.Sequential(\n",
        "#     nn.Conv2d(64, 128, kernel_size=5, stride=1),\n",
        "#     nn.ReLU,\n",
        "#     nn.MaxPool2d(kernel_size=3, stride=1),\n",
        "#     nn.ReLU,\n",
        "#     nn.Conv2d(128, 192, kernel_size=5, stride=1),\n",
        "#     nn.ReLU,\n",
        "#     nn.MaxPool2d(kernel_size=5, stride=2),\n",
        "#     nn.ReLU,\n",
        "#     nn.Conv2d(192, 200, kernel_size=5, stride=1),\n",
        "#     nn.ReLU,\n",
        "#     nn.MaxPool2d(kernel_size=4, stride=2))\n",
        "import collections\n",
        "model_classifier = nn.Sequential(collections.OrderedDict([\n",
        "          ('conv1', nn.Conv2d(64,128,5, stride=1)),\n",
        "          ('relu1', nn.ReLU()),\n",
        "          ('pool1', nn.MaxPool2d(kernel_size=3, stride=1)),\n",
        "          ('conv2', nn.Conv2d(128,192,5, stride=1)),\n",
        "          ('relu2', nn.ReLU()),\n",
        "          ('pool2', nn.MaxPool2d(kernel_size=5, stride=2)),\n",
        "          ( 'conv3', nn.Conv2d(192,200,5, stride=1)),\n",
        "          ('relu3', nn.ReLU()),\n",
        "          ('pool3', nn.MaxPool2d(kernel_size=4, stride=2)),\n",
        "          ('dp1', nn.Dropout(0.3)),\n",
        "          ('flatten', nn.Flatten()),\n",
        "          ('fc1', nn.Linear(7200, 4096)),\n",
        "          ('relu4', nn.ReLU()),\n",
        "          ('dp2', nn.Dropout(0.3)),\n",
        "          ('fc2', nn.Linear(4096, 256)),\n",
        "          ('relu5', nn.ReLU()),\n",
        "          ('dp3', nn.Dropout(0.3)),\n",
        "          ('fc3', nn.Linear(256, 2)),\n",
        "           \n",
        "        ]))\n",
        "\n",
        "    # out = self.pool3(self.relu(self.conv3(out)))\n",
        "    # out = out.view(out.size(0), -1)\n",
        "    \n",
        "    # #out = self.drop_out(out)\n",
        "    # out = self.drop_out(out)\n",
        "    # out = self.relu(self.fc1(out))\n",
        "    # out = self.drop_out(out)\n",
        "    # out = self.relu(self.fc2(out))\n",
        "    # # out = self.sigmoid(self.fc3(out))\n",
        "    # out = self.fc3(out)"
      ],
      "metadata": {
        "id": "QV7TgQe6_qCR"
      },
      "execution_count": null,
      "outputs": []
    },
    {
      "cell_type": "code",
      "source": [
        "for param in model_classifier.parameters():\n",
        "  param.requires_grad=True"
      ],
      "metadata": {
        "id": "0kcP145ljS24"
      },
      "execution_count": null,
      "outputs": []
    },
    {
      "cell_type": "code",
      "source": [
        "new_classifier.add_module('classifier', model_classifier)"
      ],
      "metadata": {
        "id": "T1xSXrcM_e0s"
      },
      "execution_count": null,
      "outputs": []
    },
    {
      "cell_type": "code",
      "source": [
        "new_classifier"
      ],
      "metadata": {
        "colab": {
          "base_uri": "https://localhost:8080/"
        },
        "id": "kXicnaTwZZx9",
        "outputId": "f6eeb54c-fecb-489c-f133-ba7254250962"
      },
      "execution_count": null,
      "outputs": [
        {
          "output_type": "execute_result",
          "data": {
            "text/plain": [
              "Sequential(\n",
              "  (0): Sequential(\n",
              "    (0): Conv2d(3, 16, kernel_size=(3, 3), stride=(2, 2), padding=(1, 1))\n",
              "    (1): ReLU()\n",
              "    (2): Conv2d(16, 32, kernel_size=(3, 3), stride=(2, 2), padding=(1, 1))\n",
              "    (3): ReLU()\n",
              "    (4): Conv2d(32, 64, kernel_size=(7, 7), stride=(1, 1))\n",
              "  )\n",
              "  (classifier): Sequential(\n",
              "    (conv1): Conv2d(64, 128, kernel_size=(5, 5), stride=(1, 1))\n",
              "    (relu1): ReLU()\n",
              "    (pool1): MaxPool2d(kernel_size=3, stride=1, padding=0, dilation=1, ceil_mode=False)\n",
              "    (conv2): Conv2d(128, 192, kernel_size=(5, 5), stride=(1, 1))\n",
              "    (relu2): ReLU()\n",
              "    (pool2): MaxPool2d(kernel_size=5, stride=2, padding=0, dilation=1, ceil_mode=False)\n",
              "    (conv3): Conv2d(192, 200, kernel_size=(5, 5), stride=(1, 1))\n",
              "    (relu3): ReLU()\n",
              "    (pool3): MaxPool2d(kernel_size=4, stride=2, padding=0, dilation=1, ceil_mode=False)\n",
              "    (dp1): Dropout(p=0.3, inplace=False)\n",
              "    (flatten): Flatten(start_dim=1, end_dim=-1)\n",
              "    (fc1): Linear(in_features=7200, out_features=4096, bias=True)\n",
              "    (relu4): ReLU()\n",
              "    (dp2): Dropout(p=0.3, inplace=False)\n",
              "    (fc2): Linear(in_features=4096, out_features=256, bias=True)\n",
              "    (relu5): ReLU()\n",
              "    (dp3): Dropout(p=0.3, inplace=False)\n",
              "    (fc3): Linear(in_features=256, out_features=2, bias=True)\n",
              "  )\n",
              ")"
            ]
          },
          "metadata": {},
          "execution_count": 41
        }
      ]
    },
    {
      "cell_type": "code",
      "source": [
        "writer.add_graph(new_classifier.to(device), image.to(device))\n"
      ],
      "metadata": {
        "id": "FqI_XLJnNgoB"
      },
      "execution_count": null,
      "outputs": []
    },
    {
      "cell_type": "code",
      "source": [
        "%tensorboard --logdir=runs/"
      ],
      "metadata": {
        "colab": {
          "base_uri": "https://localhost:8080/"
        },
        "id": "2NWv06Oy3Pg6",
        "outputId": "23d59e3b-7d06-4efc-f6bc-743506b840fe"
      },
      "execution_count": null,
      "outputs": [
        {
          "output_type": "display_data",
          "data": {
            "text/plain": [
              "Reusing TensorBoard on port 6006 (pid 422), started 0:02:58 ago. (Use '!kill 422' to kill it.)"
            ]
          },
          "metadata": {}
        },
        {
          "output_type": "display_data",
          "data": {
            "application/javascript": [
              "\n",
              "        (async () => {\n",
              "            const url = new URL(await google.colab.kernel.proxyPort(6006, {'cache': true}));\n",
              "            url.searchParams.set('tensorboardColab', 'true');\n",
              "            const iframe = document.createElement('iframe');\n",
              "            iframe.src = url;\n",
              "            iframe.setAttribute('width', '100%');\n",
              "            iframe.setAttribute('height', '800');\n",
              "            iframe.setAttribute('frameborder', 0);\n",
              "            document.body.appendChild(iframe);\n",
              "        })();\n",
              "    "
            ],
            "text/plain": [
              "<IPython.core.display.Javascript object>"
            ]
          },
          "metadata": {}
        }
      ]
    },
    {
      "cell_type": "code",
      "source": [
        "#Dataset sizes and classes names\n",
        "dataset_sizes = {x: len(image_datasets[x]) for x in ['train', 'val']}\n",
        "class_names = image_datasets['train'].classes"
      ],
      "metadata": {
        "id": "s1N7My2qxl1S"
      },
      "execution_count": null,
      "outputs": []
    },
    {
      "cell_type": "code",
      "source": [
        "criterion = nn.CrossEntropyLoss()\n",
        "\n",
        "optimizer_conv = optim.SGD(new_classifier.parameters(), lr=0.001, momentum=0.9)"
      ],
      "metadata": {
        "id": "N3Sp5F1KeGqe"
      },
      "execution_count": null,
      "outputs": []
    },
    {
      "cell_type": "code",
      "source": [
        "train_loss_save = []\n",
        "valid_loss_save = []\n",
        "epoch_check = []\n",
        "def train_model(temp_model, criterion, optimizer, num_epochs=50):\n",
        "  since = time.time()\n",
        "\n",
        "  best_model_wts = copy.deepcopy(temp_model.state_dict())\n",
        "  best_acc = 0.0\n",
        "  loss_idx_value = 0\n",
        "  # running_loss = 0.0\n",
        "  # running_correct = 0\n",
        "  n_total_steps = len(dataloaders['train'])\n",
        "\n",
        "\n",
        "  for epoch in range(num_epochs):\n",
        "\n",
        "    print('Epoch {}/{}'.format(epoch, num_epochs - 1))\n",
        "    print('-' * 10)\n",
        "\n",
        "    # Each epoch has a training and validation phase\n",
        "    for phase in ['train', 'val']:\n",
        "      if phase == 'train':\n",
        "        temp_model.train()  # Set model to training mode\n",
        "      else:\n",
        "        temp_model.eval()   # Set model to evaluate mode\n",
        "\n",
        "      running_loss = 0.0\n",
        "      running_corrects = 0\n",
        "\n",
        "      # Iterate over dataloader for training and validation data.\n",
        "      for i, (inputs, labels) in enumerate(dataloaders[phase]):\n",
        "  \n",
        "        inputs = inputs.to(device)\n",
        "        labels = labels.to(device)\n",
        "\n",
        "        # zero the parameter gradients\n",
        "        optimizer.zero_grad()\n",
        "\n",
        "        # forward\n",
        "        # track history if only in train\n",
        "        with torch.set_grad_enabled(phase == 'train'):\n",
        "          outputs = temp_model(inputs)\n",
        "          _, preds = torch.max(outputs, 1)\n",
        "          loss = criterion(outputs, labels)\n",
        "\n",
        "          # backward + optimize only if in training phase\n",
        "          \n",
        "          if phase == 'train':\n",
        "            # loss.requires_grad = True  \n",
        "            loss.backward()\n",
        "            optimizer.step()\n",
        "            \n",
        "\n",
        "        # statistics\n",
        "        running_loss += loss.item() * inputs.size(0)\n",
        "        running_corrects += torch.sum(preds == labels.data)\n",
        "        writer.add_scalar('Training Loss w.r.t each batch', running_loss, loss_idx_value)\n",
        "        loss_idx_value += 1\n",
        "        if (i+1) % 100 == 0:\n",
        "          print (f'Epoch [{epoch+1}/{num_epochs}], Step [{i+1}/{n_total_steps}], Loss: {loss.item():.4f}')\n",
        "          ############## TENSORBOARD ########################\n",
        "          # writer.add_scalar('training loss', running_loss / 100, epoch * n_total_steps + i)\n",
        "          writer.add_scalar('Training Loss w.r.t each batch', running_loss/100, epoch * n_total_steps + i)\n",
        "          running_accuracy = running_corrects / preds.size(0)\n",
        "          writer.add_scalar('Accuracy w.r.t each batch', running_accuracy/100, epoch * n_total_steps + i)\n",
        "          running_corrects = 0\n",
        "          running_loss = 0.0\n",
        "\n",
        "\n",
        "      # if phase == 'train':\n",
        "      #   scheduler.step()\n",
        "          \n",
        "      epoch_loss = running_loss / dataset_sizes[phase]\n",
        "      epoch_acc = running_corrects.double() / dataset_sizes[phase]\n",
        "      if phase == 'train':\n",
        "        train_loss_save.append(epoch_loss)\n",
        "        epoch_check.append(epoch)\n",
        "        writer.add_scalar('Training Loss w.r.t epoch', epoch_loss, epoch)\n",
        "        writer.add_scalar('Training Accuracy w.r.t epoch',epoch_acc, epoch)\n",
        "      else:\n",
        "        valid_loss_save.append(epoch_loss)\n",
        "        writer.add_scalar('Validation Loss w.r.t epoch',epoch_loss, epoch)\n",
        "        writer.add_scalar('Validation Accuracy w.r.t epoch',epoch_acc, epoch)\n",
        "\n",
        "      # epoch_acc = running_corrects.double() / dataset_sizes[phase]\n",
        "\n",
        "      print('{} Loss: {:.4f} Acc: {:.4f}'.format(phase, epoch_loss, epoch_acc))\n",
        "\n",
        "      # deep copy the model\n",
        "      if phase == 'val' and epoch_acc > best_acc:\n",
        "        best_acc = epoch_acc\n",
        "        best_model_wts = copy.deepcopy(temp_model.state_dict())\n",
        "\n",
        "    print()\n",
        "\n",
        "  time_elapsed = time.time() - since\n",
        "  print('Training complete in {:.0f}m {:.0f}s'.format(\n",
        "      time_elapsed // 60, time_elapsed % 60))\n",
        "  print('Best val Acc: {:4f}'.format(best_acc))\n",
        "\n",
        "  # load best model weights which has best and lowest loss among other model\n",
        "  temp_model.load_state_dict(best_model_wts)\n",
        "  return temp_model"
      ],
      "metadata": {
        "id": "LpmcSESM-kh2"
      },
      "execution_count": null,
      "outputs": []
    },
    {
      "cell_type": "code",
      "source": [
        "final_model = train_model(new_classifier.to(device), criterion = criterion, optimizer = optimizer_conv, num_epochs = 50)"
      ],
      "metadata": {
        "colab": {
          "base_uri": "https://localhost:8080/"
        },
        "id": "dE3YpYsXdXvp",
        "outputId": "ba229294-143f-413c-c6a0-54d1925b0ae0"
      },
      "execution_count": null,
      "outputs": [
        {
          "output_type": "stream",
          "name": "stdout",
          "text": [
            "Epoch 0/49\n",
            "----------\n",
            "train Loss: 0.6008 Acc: 0.7295\n",
            "val Loss: 0.6154 Acc: 0.6667\n",
            "\n",
            "Epoch 1/49\n",
            "----------\n",
            "train Loss: 0.5556 Acc: 0.7295\n",
            "val Loss: 0.5647 Acc: 0.6667\n",
            "\n",
            "Epoch 2/49\n",
            "----------\n",
            "train Loss: 0.4583 Acc: 0.7705\n",
            "val Loss: 0.5066 Acc: 0.7810\n",
            "\n",
            "Epoch 3/49\n",
            "----------\n",
            "train Loss: 0.3614 Acc: 0.8466\n",
            "val Loss: 0.3649 Acc: 0.8254\n",
            "\n",
            "Epoch 4/49\n",
            "----------\n",
            "train Loss: 0.2900 Acc: 0.8816\n",
            "val Loss: 0.3074 Acc: 0.8825\n",
            "\n",
            "Epoch 5/49\n",
            "----------\n",
            "train Loss: 0.2241 Acc: 0.9190\n",
            "val Loss: 0.2593 Acc: 0.8984\n",
            "\n",
            "Epoch 6/49\n",
            "----------\n",
            "train Loss: 0.2005 Acc: 0.9321\n",
            "val Loss: 0.2606 Acc: 0.9016\n",
            "\n",
            "Epoch 7/49\n",
            "----------\n",
            "train Loss: 0.1963 Acc: 0.9292\n",
            "val Loss: 0.2700 Acc: 0.8984\n",
            "\n",
            "Epoch 8/49\n",
            "----------\n",
            "train Loss: 0.1894 Acc: 0.9337\n",
            "val Loss: 0.3623 Acc: 0.8508\n",
            "\n",
            "Epoch 9/49\n",
            "----------\n",
            "train Loss: 0.1846 Acc: 0.9361\n",
            "val Loss: 0.2421 Acc: 0.9111\n",
            "\n",
            "Epoch 10/49\n",
            "----------\n",
            "train Loss: 0.1567 Acc: 0.9447\n",
            "val Loss: 0.2552 Acc: 0.9206\n",
            "\n",
            "Epoch 11/49\n",
            "----------\n",
            "train Loss: 0.1547 Acc: 0.9500\n",
            "val Loss: 0.2545 Acc: 0.9111\n",
            "\n",
            "Epoch 12/49\n",
            "----------\n",
            "train Loss: 0.1561 Acc: 0.9504\n",
            "val Loss: 0.2413 Acc: 0.9111\n",
            "\n",
            "Epoch 13/49\n",
            "----------\n",
            "train Loss: 0.1576 Acc: 0.9459\n",
            "val Loss: 0.2256 Acc: 0.9111\n",
            "\n",
            "Epoch 14/49\n",
            "----------\n",
            "train Loss: 0.1478 Acc: 0.9475\n",
            "val Loss: 0.2330 Acc: 0.9048\n",
            "\n",
            "Epoch 15/49\n",
            "----------\n",
            "train Loss: 0.1348 Acc: 0.9512\n",
            "val Loss: 0.2566 Acc: 0.9079\n",
            "\n",
            "Epoch 16/49\n",
            "----------\n",
            "train Loss: 0.1413 Acc: 0.9512\n",
            "val Loss: 0.2458 Acc: 0.9143\n",
            "\n",
            "Epoch 17/49\n",
            "----------\n",
            "train Loss: 0.1340 Acc: 0.9557\n",
            "val Loss: 0.2133 Acc: 0.9206\n",
            "\n",
            "Epoch 18/49\n",
            "----------\n",
            "train Loss: 0.1280 Acc: 0.9577\n",
            "val Loss: 0.2256 Acc: 0.9238\n",
            "\n",
            "Epoch 19/49\n",
            "----------\n",
            "train Loss: 0.1251 Acc: 0.9561\n",
            "val Loss: 0.2219 Acc: 0.9111\n",
            "\n",
            "Epoch 20/49\n",
            "----------\n",
            "train Loss: 0.1275 Acc: 0.9577\n",
            "val Loss: 0.2420 Acc: 0.8984\n",
            "\n",
            "Epoch 21/49\n",
            "----------\n",
            "train Loss: 0.1230 Acc: 0.9581\n",
            "val Loss: 0.2064 Acc: 0.9238\n",
            "\n",
            "Epoch 22/49\n",
            "----------\n",
            "train Loss: 0.1195 Acc: 0.9589\n",
            "val Loss: 0.2368 Acc: 0.9048\n",
            "\n",
            "Epoch 23/49\n",
            "----------\n",
            "train Loss: 0.1099 Acc: 0.9638\n",
            "val Loss: 0.2269 Acc: 0.9238\n",
            "\n",
            "Epoch 24/49\n",
            "----------\n",
            "train Loss: 0.1045 Acc: 0.9630\n",
            "val Loss: 0.2287 Acc: 0.9143\n",
            "\n",
            "Epoch 25/49\n",
            "----------\n",
            "train Loss: 0.1146 Acc: 0.9593\n",
            "val Loss: 0.2223 Acc: 0.9143\n",
            "\n",
            "Epoch 26/49\n",
            "----------\n",
            "train Loss: 0.1039 Acc: 0.9614\n",
            "val Loss: 0.2033 Acc: 0.9270\n",
            "\n",
            "Epoch 27/49\n",
            "----------\n",
            "train Loss: 0.1043 Acc: 0.9646\n",
            "val Loss: 0.2074 Acc: 0.9079\n",
            "\n",
            "Epoch 28/49\n",
            "----------\n",
            "train Loss: 0.0979 Acc: 0.9654\n",
            "val Loss: 0.2163 Acc: 0.9270\n",
            "\n",
            "Epoch 29/49\n",
            "----------\n",
            "train Loss: 0.0928 Acc: 0.9679\n",
            "val Loss: 0.2062 Acc: 0.9206\n",
            "\n",
            "Epoch 30/49\n",
            "----------\n",
            "train Loss: 0.1042 Acc: 0.9597\n",
            "val Loss: 0.1973 Acc: 0.9206\n",
            "\n",
            "Epoch 31/49\n",
            "----------\n",
            "train Loss: 0.0887 Acc: 0.9687\n",
            "val Loss: 0.2342 Acc: 0.9079\n",
            "\n",
            "Epoch 32/49\n",
            "----------\n",
            "train Loss: 0.0983 Acc: 0.9658\n",
            "val Loss: 0.2216 Acc: 0.9143\n",
            "\n",
            "Epoch 33/49\n",
            "----------\n",
            "train Loss: 0.0943 Acc: 0.9675\n",
            "val Loss: 0.1912 Acc: 0.9270\n",
            "\n",
            "Epoch 34/49\n",
            "----------\n",
            "train Loss: 0.0881 Acc: 0.9675\n",
            "val Loss: 0.2168 Acc: 0.9143\n",
            "\n",
            "Epoch 35/49\n",
            "----------\n",
            "train Loss: 0.0907 Acc: 0.9699\n",
            "val Loss: 0.2142 Acc: 0.9206\n",
            "\n",
            "Epoch 36/49\n",
            "----------\n",
            "train Loss: 0.0961 Acc: 0.9679\n",
            "val Loss: 0.1894 Acc: 0.9270\n",
            "\n",
            "Epoch 37/49\n",
            "----------\n",
            "train Loss: 0.1116 Acc: 0.9573\n",
            "val Loss: 0.2327 Acc: 0.9143\n",
            "\n",
            "Epoch 38/49\n",
            "----------\n",
            "train Loss: 0.1022 Acc: 0.9614\n",
            "val Loss: 0.2276 Acc: 0.9333\n",
            "\n",
            "Epoch 39/49\n",
            "----------\n",
            "train Loss: 0.0872 Acc: 0.9711\n",
            "val Loss: 0.2396 Acc: 0.9111\n",
            "\n",
            "Epoch 40/49\n",
            "----------\n",
            "train Loss: 0.0785 Acc: 0.9707\n",
            "val Loss: 0.2188 Acc: 0.9143\n",
            "\n",
            "Epoch 41/49\n",
            "----------\n",
            "train Loss: 0.0736 Acc: 0.9723\n",
            "val Loss: 0.3075 Acc: 0.9016\n",
            "\n",
            "Epoch 42/49\n",
            "----------\n",
            "train Loss: 0.0966 Acc: 0.9642\n",
            "val Loss: 0.2029 Acc: 0.9206\n",
            "\n",
            "Epoch 43/49\n",
            "----------\n",
            "train Loss: 0.0767 Acc: 0.9736\n",
            "val Loss: 0.2308 Acc: 0.9270\n",
            "\n",
            "Epoch 44/49\n",
            "----------\n",
            "train Loss: 0.0909 Acc: 0.9666\n",
            "val Loss: 0.2114 Acc: 0.9238\n",
            "\n",
            "Epoch 45/49\n",
            "----------\n",
            "train Loss: 0.0710 Acc: 0.9740\n",
            "val Loss: 0.2538 Acc: 0.9079\n",
            "\n",
            "Epoch 46/49\n",
            "----------\n",
            "train Loss: 0.0888 Acc: 0.9695\n",
            "val Loss: 0.2214 Acc: 0.9175\n",
            "\n",
            "Epoch 47/49\n",
            "----------\n",
            "train Loss: 0.0768 Acc: 0.9699\n",
            "val Loss: 0.2155 Acc: 0.9111\n",
            "\n",
            "Epoch 48/49\n",
            "----------\n",
            "train Loss: 0.0868 Acc: 0.9666\n",
            "val Loss: 0.2701 Acc: 0.9016\n",
            "\n",
            "Epoch 49/49\n",
            "----------\n",
            "train Loss: 0.0668 Acc: 0.9756\n",
            "val Loss: 0.2026 Acc: 0.9270\n",
            "\n",
            "Training complete in 368m 42s\n",
            "Best val Acc: 0.933333\n"
          ]
        }
      ]
    },
    {
      "cell_type": "code",
      "source": [
        "def visualize_model(model, num_images=10):\n",
        "  was_training = model.training\n",
        "  model.eval()\n",
        "  images_so_far = 0\n",
        "  fig = plt.figure()\n",
        "\n",
        "  with torch.no_grad():\n",
        "    for i, (inputs, labels) in enumerate(dataloaders['val']):\n",
        "      inputs = inputs.to(device)\n",
        "      labels = labels.to(device)\n",
        "\n",
        "      outputs = model(inputs)\n",
        "      _, preds = torch.max(outputs, 1)\n",
        "\n",
        "      for j in range(inputs.size()[0]):\n",
        "        images_so_far += 1\n",
        "        ax = plt.subplot(num_images//2, 2, images_so_far)\n",
        "        ax.axis('off')\n",
        "        ax.set_title('predicted: {}'.format(class_names[preds[j]]))\n",
        "        imshow(inputs.cpu().data[j])\n",
        "\n",
        "        if images_so_far == num_images:\n",
        "          model.train(mode=was_training)\n",
        "          return\n",
        "    model.train(mode=was_training)"
      ],
      "metadata": {
        "id": "kJwEEuHT33lz"
      },
      "execution_count": null,
      "outputs": []
    },
    {
      "cell_type": "code",
      "source": [
        "def imshow(inp, title=None):\n",
        "    \"\"\"Imshow for Tensor.\"\"\"\n",
        "    inp = inp.numpy().transpose((1, 2, 0))\n",
        "    mean = np.array([0.485, 0.456, 0.406])\n",
        "    std = np.array([0.229, 0.224, 0.225])\n",
        "    inp = std * inp + mean\n",
        "    inp = np.clip(inp, 0, 1)\n",
        "    plt.imshow(inp)\n",
        "    if title is not None:\n",
        "        plt.title(title)\n",
        "    plt.pause(0.001)  # pause a bit so that plots are updated\n",
        "\n"
      ],
      "metadata": {
        "id": "vEDek6QY4E-U"
      },
      "execution_count": null,
      "outputs": []
    },
    {
      "cell_type": "code",
      "source": [
        "visualize_model(final_model)\n",
        "plt.ioff()\n",
        "plt.show()"
      ],
      "metadata": {
        "colab": {
          "base_uri": "https://localhost:8080/"
        },
        "id": "-1ipPrmLp7ue",
        "outputId": "76d6d078-99bd-4831-b385-b42ca43d47dc"
      },
      "execution_count": null,
      "outputs": [
        {
          "output_type": "display_data",
          "data": {
            "image/png": "[encoded data removed]",
            "text/plain": [
              "<Figure size 432x288 with 1 Axes>"
            ]
          },
          "metadata": {
            "needs_background": "light"
          }
        },
        {
          "output_type": "display_data",
          "data": {
            "image/png": "[encoded data removed]",
            "text/plain": [
              "<Figure size 432x288 with 1 Axes>"
            ]
          },
          "metadata": {
            "needs_background": "light"
          }
        },
        {
          "output_type": "display_data",
          "data": {
            "image/png": "[encoded data removed]",
            "text/plain": [
              "<Figure size 432x288 with 1 Axes>"
            ]
          },
          "metadata": {
            "needs_background": "light"
          }
        },
        {
          "output_type": "display_data",
          "data": {
            "image/png": "[encoded data removed]",
            "text/plain": [
              "<Figure size 432x288 with 1 Axes>"
            ]
          },
          "metadata": {
            "needs_background": "light"
          }
        },
        {
          "output_type": "display_data",
          "data": {
            "image/png": "[encoded data removed]",
            "text/plain": [
              "<Figure size 432x288 with 1 Axes>"
            ]
          },
          "metadata": {
            "needs_background": "light"
          }
        },
        {
          "output_type": "display_data",
          "data": {
            "image/png": "[encoded data removed]",
            "text/plain": [
              "<Figure size 432x288 with 1 Axes>"
            ]
          },
          "metadata": {
            "needs_background": "light"
          }
        },
        {
          "output_type": "display_data",
          "data": {
            "image/png": "[encoded data removed]",
            "text/plain": [
              "<Figure size 432x288 with 1 Axes>"
            ]
          },
          "metadata": {
            "needs_background": "light"
          }
        },
        {
          "output_type": "display_data",
          "data": {
            "image/png": "[encoded data removed]",
            "text/plain": [
              "<Figure size 432x288 with 1 Axes>"
            ]
          },
          "metadata": {
            "needs_background": "light"
          }
        },
        {
          "output_type": "display_data",
          "data": {
            "image/png": "[encoded data removed]",
            "text/plain": [
              "<Figure size 432x288 with 1 Axes>"
            ]
          },
          "metadata": {
            "needs_background": "light"
          }
        },
        {
          "output_type": "display_data",
          "data": {
            "image/png": "[encoded data removed]",
            "text/plain": [
              "<Figure size 432x288 with 1 Axes>"
            ]
          },
          "metadata": {
            "needs_background": "light"
          }
        }
      ]
    },
    {
      "cell_type": "code",
      "source": [
        "%tensorboard --logdir=runs/"
      ],
      "metadata": {
        "colab": {
          "base_uri": "https://localhost:8080/"
        },
        "id": "6-4aZoAG4syM",
        "outputId": "09f5a01e-1894-4e8e-a0ad-fbcd9286fda8"
      },
      "execution_count": null,
      "outputs": [
        {
          "output_type": "display_data",
          "data": {
            "text/plain": [
              "Reusing TensorBoard on port 6006 (pid 422), started 6:20:42 ago. (Use '!kill 422' to kill it.)"
            ]
          },
          "metadata": {}
        },
        {
          "output_type": "display_data",
          "data": {
            "application/javascript": [
              "\n",
              "        (async () => {\n",
              "            const url = new URL(await google.colab.kernel.proxyPort(6006, {'cache': true}));\n",
              "            url.searchParams.set('tensorboardColab', 'true');\n",
              "            const iframe = document.createElement('iframe');\n",
              "            iframe.src = url;\n",
              "            iframe.setAttribute('width', '100%');\n",
              "            iframe.setAttribute('height', '800');\n",
              "            iframe.setAttribute('frameborder', 0);\n",
              "            document.body.appendChild(iframe);\n",
              "        })();\n",
              "    "
            ],
            "text/plain": [
              "<IPython.core.display.Javascript object>"
            ]
          },
          "metadata": {}
        }
      ]
    },
    {
      "cell_type": "code",
      "source": [
        "PATH = '/content/drive/MyDrive/'\n",
        "# torch.save(final_model, PATH + 'autoencode_epoch_'+str(30))\n",
        "torch.save(final_model.state_dict(), PATH + \"autoencoder_classifier_model.pt\")"
      ],
      "metadata": {
        "id": "hCShdJmz3435"
      },
      "execution_count": null,
      "outputs": []
    },
    {
      "cell_type": "code",
      "source": [
        ""
      ],
      "metadata": {
        "id": "mwIsogPC4l3_"
      },
      "execution_count": null,
      "outputs": []
    }
  ]
}